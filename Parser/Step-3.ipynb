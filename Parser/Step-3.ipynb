{
 "cells": [
  {
   "cell_type": "markdown",
   "metadata": {
    "vscode": {
     "languageId": "plaintext"
    }
   },
   "source": [
    "##STEP-3:\n",
    "1)Print the Loss found in Step 2 and Enhanced Dictionary in the Step 2\n",
    "2)Enhance the dictionary \n",
    "3)Attach attributes to the dictionary elements \n",
    "4)Loss of attributes is 0 "
   ]
  },
  {
   "cell_type": "code",
   "execution_count": 1,
   "metadata": {},
   "outputs": [],
   "source": [
    "# Step 1: Import necessary libraries\n",
    "import pandas as pd\n",
    "import numpy as np"
   ]
  },
  {
   "cell_type": "code",
   "execution_count": 2,
   "metadata": {},
   "outputs": [
    {
     "data": {
      "text/html": [
       "<div>\n",
       "<style scoped>\n",
       "    .dataframe tbody tr th:only-of-type {\n",
       "        vertical-align: middle;\n",
       "    }\n",
       "\n",
       "    .dataframe tbody tr th {\n",
       "        vertical-align: top;\n",
       "    }\n",
       "\n",
       "    .dataframe thead th {\n",
       "        text-align: right;\n",
       "    }\n",
       "</style>\n",
       "<table border=\"1\" class=\"dataframe\">\n",
       "  <thead>\n",
       "    <tr style=\"text-align: right;\">\n",
       "      <th></th>\n",
       "      <th>SrNo</th>\n",
       "      <th>Patient_Id</th>\n",
       "      <th>Fever_Mild</th>\n",
       "      <th>Fever_Low</th>\n",
       "      <th>Fever_High</th>\n",
       "      <th>DOB</th>\n",
       "      <th>Cough_Mild</th>\n",
       "      <th>Cough_Low</th>\n",
       "      <th>Cough_High</th>\n",
       "      <th>Cold_Mild</th>\n",
       "      <th>Cold_Low</th>\n",
       "      <th>Cold_High</th>\n",
       "      <th>Other_Symptoms</th>\n",
       "    </tr>\n",
       "  </thead>\n",
       "  <tbody>\n",
       "    <tr>\n",
       "      <th>0</th>\n",
       "      <td>1</td>\n",
       "      <td>1</td>\n",
       "      <td>Y</td>\n",
       "      <td>N</td>\n",
       "      <td>N</td>\n",
       "      <td>02-06-1997</td>\n",
       "      <td>N</td>\n",
       "      <td>Y</td>\n",
       "      <td>Y</td>\n",
       "      <td>N</td>\n",
       "      <td>N</td>\n",
       "      <td>Y</td>\n",
       "      <td>Body Ache</td>\n",
       "    </tr>\n",
       "    <tr>\n",
       "      <th>1</th>\n",
       "      <td>2</td>\n",
       "      <td>2</td>\n",
       "      <td>Y</td>\n",
       "      <td>N</td>\n",
       "      <td>N</td>\n",
       "      <td>28-06-2017</td>\n",
       "      <td>N</td>\n",
       "      <td>Y</td>\n",
       "      <td>Y</td>\n",
       "      <td>N</td>\n",
       "      <td>N</td>\n",
       "      <td>Y</td>\n",
       "      <td>Shivering</td>\n",
       "    </tr>\n",
       "    <tr>\n",
       "      <th>2</th>\n",
       "      <td>3</td>\n",
       "      <td>3</td>\n",
       "      <td>Y</td>\n",
       "      <td>N</td>\n",
       "      <td>N</td>\n",
       "      <td>24-04-1999</td>\n",
       "      <td>N</td>\n",
       "      <td>Y</td>\n",
       "      <td>Y</td>\n",
       "      <td>N</td>\n",
       "      <td>N</td>\n",
       "      <td>Y</td>\n",
       "      <td>Head Ache</td>\n",
       "    </tr>\n",
       "    <tr>\n",
       "      <th>3</th>\n",
       "      <td>4</td>\n",
       "      <td>4</td>\n",
       "      <td>Y</td>\n",
       "      <td>N</td>\n",
       "      <td>N</td>\n",
       "      <td>15-11-2016</td>\n",
       "      <td>N</td>\n",
       "      <td>Y</td>\n",
       "      <td>Y</td>\n",
       "      <td>N</td>\n",
       "      <td>N</td>\n",
       "      <td>Y</td>\n",
       "      <td>Nausia</td>\n",
       "    </tr>\n",
       "    <tr>\n",
       "      <th>4</th>\n",
       "      <td>5</td>\n",
       "      <td>5</td>\n",
       "      <td>Y</td>\n",
       "      <td>N</td>\n",
       "      <td>N</td>\n",
       "      <td>13-11-1985</td>\n",
       "      <td>N</td>\n",
       "      <td>Y</td>\n",
       "      <td>Y</td>\n",
       "      <td>N</td>\n",
       "      <td>N</td>\n",
       "      <td>Y</td>\n",
       "      <td>Sickness</td>\n",
       "    </tr>\n",
       "    <tr>\n",
       "      <th>5</th>\n",
       "      <td>6</td>\n",
       "      <td>6</td>\n",
       "      <td>Y</td>\n",
       "      <td>N</td>\n",
       "      <td>N</td>\n",
       "      <td>28-12-2018</td>\n",
       "      <td>N</td>\n",
       "      <td>Y</td>\n",
       "      <td>Y</td>\n",
       "      <td>N</td>\n",
       "      <td>N</td>\n",
       "      <td>Y</td>\n",
       "      <td>Vertigo</td>\n",
       "    </tr>\n",
       "    <tr>\n",
       "      <th>6</th>\n",
       "      <td>7</td>\n",
       "      <td>7</td>\n",
       "      <td>Y</td>\n",
       "      <td>N</td>\n",
       "      <td>N</td>\n",
       "      <td>14-01-2014</td>\n",
       "      <td>N</td>\n",
       "      <td>Y</td>\n",
       "      <td>Y</td>\n",
       "      <td>N</td>\n",
       "      <td>N</td>\n",
       "      <td>Y</td>\n",
       "      <td>Head Ache</td>\n",
       "    </tr>\n",
       "    <tr>\n",
       "      <th>7</th>\n",
       "      <td>8</td>\n",
       "      <td>8</td>\n",
       "      <td>Y</td>\n",
       "      <td>N</td>\n",
       "      <td>N</td>\n",
       "      <td>08-11-2014</td>\n",
       "      <td>N</td>\n",
       "      <td>Y</td>\n",
       "      <td>Y</td>\n",
       "      <td>N</td>\n",
       "      <td>N</td>\n",
       "      <td>Y</td>\n",
       "      <td>Nausia</td>\n",
       "    </tr>\n",
       "    <tr>\n",
       "      <th>8</th>\n",
       "      <td>9</td>\n",
       "      <td>9</td>\n",
       "      <td>Y</td>\n",
       "      <td>N</td>\n",
       "      <td>N</td>\n",
       "      <td>24-08-1983</td>\n",
       "      <td>N</td>\n",
       "      <td>Y</td>\n",
       "      <td>Y</td>\n",
       "      <td>N</td>\n",
       "      <td>N</td>\n",
       "      <td>Y</td>\n",
       "      <td>Sickness</td>\n",
       "    </tr>\n",
       "    <tr>\n",
       "      <th>9</th>\n",
       "      <td>10</td>\n",
       "      <td>10</td>\n",
       "      <td>Y</td>\n",
       "      <td>N</td>\n",
       "      <td>N</td>\n",
       "      <td>01-07-2002</td>\n",
       "      <td>N</td>\n",
       "      <td>Y</td>\n",
       "      <td>Y</td>\n",
       "      <td>N</td>\n",
       "      <td>N</td>\n",
       "      <td>Y</td>\n",
       "      <td>Vertigo, Nausia</td>\n",
       "    </tr>\n",
       "    <tr>\n",
       "      <th>10</th>\n",
       "      <td>11</td>\n",
       "      <td>11</td>\n",
       "      <td>Y</td>\n",
       "      <td>N</td>\n",
       "      <td>N</td>\n",
       "      <td>4-03-2003</td>\n",
       "      <td>N</td>\n",
       "      <td>Y</td>\n",
       "      <td>Y</td>\n",
       "      <td>N</td>\n",
       "      <td>N</td>\n",
       "      <td>Y</td>\n",
       "      <td>Vomitting</td>\n",
       "    </tr>\n",
       "    <tr>\n",
       "      <th>11</th>\n",
       "      <td>12</td>\n",
       "      <td>12</td>\n",
       "      <td>Y</td>\n",
       "      <td>N</td>\n",
       "      <td>N</td>\n",
       "      <td>11-11-2003</td>\n",
       "      <td>N</td>\n",
       "      <td>Y</td>\n",
       "      <td>Y</td>\n",
       "      <td>N</td>\n",
       "      <td>N</td>\n",
       "      <td>Y</td>\n",
       "      <td>Nose Bleed</td>\n",
       "    </tr>\n",
       "  </tbody>\n",
       "</table>\n",
       "</div>"
      ],
      "text/plain": [
       "    SrNo  Patient_Id Fever_Mild Fever_Low Fever_High         DOB Cough_Mild  \\\n",
       "0      1           1          Y         N          N  02-06-1997          N   \n",
       "1      2           2          Y         N          N  28-06-2017          N   \n",
       "2      3           3          Y         N          N  24-04-1999          N   \n",
       "3      4           4          Y         N          N  15-11-2016          N   \n",
       "4      5           5          Y         N          N  13-11-1985          N   \n",
       "5      6           6          Y         N          N  28-12-2018          N   \n",
       "6      7           7          Y         N          N  14-01-2014          N   \n",
       "7      8           8          Y         N          N  08-11-2014          N   \n",
       "8      9           9          Y         N          N  24-08-1983          N   \n",
       "9     10          10          Y         N          N  01-07-2002          N   \n",
       "10    11          11          Y         N          N   4-03-2003          N   \n",
       "11    12          12          Y         N          N  11-11-2003          N   \n",
       "\n",
       "   Cough_Low Cough_High Cold_Mild Cold_Low Cold_High   Other_Symptoms  \n",
       "0          Y          Y         N        N         Y        Body Ache  \n",
       "1          Y          Y         N        N         Y        Shivering  \n",
       "2          Y          Y         N        N         Y        Head Ache  \n",
       "3          Y          Y         N        N         Y           Nausia  \n",
       "4          Y          Y         N        N         Y         Sickness  \n",
       "5          Y          Y         N        N         Y          Vertigo  \n",
       "6          Y          Y         N        N         Y        Head Ache  \n",
       "7          Y          Y         N        N         Y           Nausia  \n",
       "8          Y          Y         N        N         Y         Sickness  \n",
       "9          Y          Y         N        N         Y  Vertigo, Nausia  \n",
       "10         Y          Y         N        N         Y        Vomitting  \n",
       "11         Y          Y         N        N         Y       Nose Bleed  "
      ]
     },
     "execution_count": 2,
     "metadata": {},
     "output_type": "execute_result"
    }
   ],
   "source": [
    "# Step 2: Load the dataset\n",
    "data = pd.read_csv('data.csv')\n",
    "data"
   ]
  },
  {
   "cell_type": "code",
   "execution_count": 3,
   "metadata": {},
   "outputs": [],
   "source": [
    "# Step 3: Define the parser function from Step 2 to create the symptom dictionary\n",
    "def create_symptom_dict(data):\n",
    "    # List of symptom-related columns\n",
    "    symptom_columns = ['Fever_Mild', 'Fever_Low', 'Fever_High', 'Cough_Mild', 'Cough_Low', 'Cough_High',\n",
    "                       'Cold_Mild', 'Cold_Low', 'Cold_High', 'Other_Symptoms']\n",
    "    \n",
    "    # Initialize an empty dictionary\n",
    "    symptom_dict = {}\n",
    "    loss_columns = []\n",
    "    \n",
    "    # Iterate over each row in the dataset\n",
    "    for index, row in data.iterrows():\n",
    "        patient_id = row['Patient_Id']\n",
    "        symptoms = {}\n",
    "        \n",
    "        # Extract symptom values for each symptom-related column\n",
    "        for symptom in symptom_columns:\n",
    "            if pd.isnull(row[symptom]):  # Check if the symptom value is missing\n",
    "                loss_columns.append(symptom)  # Track columns with missing values\n",
    "            symptoms[symptom] = row[symptom]\n",
    "        \n",
    "        # Assign the dictionary of symptoms to the patient ID\n",
    "        symptom_dict[patient_id] = symptoms\n",
    "    \n",
    "    # Return both the symptom dictionary and list of columns with missing data (Loss)\n",
    "    return symptom_dict, set(loss_columns)"
   ]
  },
  {
   "cell_type": "code",
   "execution_count": 4,
   "metadata": {},
   "outputs": [],
   "source": [
    "# Step 4: Use the parser to create the dictionary and capture the \"Loss\"\n",
    "symptom_dict, loss_columns = create_symptom_dict(data)"
   ]
  },
  {
   "cell_type": "code",
   "execution_count": 5,
   "metadata": {},
   "outputs": [
    {
     "name": "stdout",
     "output_type": "stream",
     "text": [
      "Loss (Columns with missing data): set()\n"
     ]
    }
   ],
   "source": [
    "# Step 5: Print the Loss found in Step 2\n",
    "print(\"Loss (Columns with missing data):\", loss_columns)"
   ]
  },
  {
   "cell_type": "code",
   "execution_count": 6,
   "metadata": {},
   "outputs": [],
   "source": [
    "# Step 6: Enhancing the dictionary (assuming the dataset has been updated or new symptoms exist)\n",
    "def enhance_symptom_dict(data, symptom_dict):\n",
    "    # Re-run the same parsing process to check for any new entries\n",
    "    new_symptom_dict, new_loss_columns = create_symptom_dict(data)\n",
    "    \n",
    "    # Enhance the original symptom dictionary by updating with new values\n",
    "    symptom_dict.update(new_symptom_dict)\n",
    "    \n",
    "    # Return the enhanced dictionary and new loss columns\n",
    "    return symptom_dict, new_loss_columns\n"
   ]
  },
  {
   "cell_type": "code",
   "execution_count": 7,
   "metadata": {},
   "outputs": [],
   "source": [
    "# Step 7: Enhance the dictionary with new data\n",
    "enhanced_symptom_dict, new_loss_columns = enhance_symptom_dict(data, symptom_dict)"
   ]
  },
  {
   "cell_type": "code",
   "execution_count": 8,
   "metadata": {},
   "outputs": [
    {
     "name": "stdout",
     "output_type": "stream",
     "text": [
      "Enhanced Dictionary (Sample): {1: {'Fever_Mild': 'Y', 'Fever_Low': 'N', 'Fever_High': 'N', 'Cough_Mild': 'N', 'Cough_Low': 'Y', 'Cough_High': 'Y', 'Cold_Mild': 'N', 'Cold_Low': 'N', 'Cold_High': 'Y', 'Other_Symptoms': 'Body Ache'}, 2: {'Fever_Mild': 'Y', 'Fever_Low': 'N', 'Fever_High': 'N', 'Cough_Mild': 'N', 'Cough_Low': 'Y', 'Cough_High': 'Y', 'Cold_Mild': 'N', 'Cold_Low': 'N', 'Cold_High': 'Y', 'Other_Symptoms': 'Shivering'}, 3: {'Fever_Mild': 'Y', 'Fever_Low': 'N', 'Fever_High': 'N', 'Cough_Mild': 'N', 'Cough_Low': 'Y', 'Cough_High': 'Y', 'Cold_Mild': 'N', 'Cold_Low': 'N', 'Cold_High': 'Y', 'Other_Symptoms': 'Head Ache'}, 4: {'Fever_Mild': 'Y', 'Fever_Low': 'N', 'Fever_High': 'N', 'Cough_Mild': 'N', 'Cough_Low': 'Y', 'Cough_High': 'Y', 'Cold_Mild': 'N', 'Cold_Low': 'N', 'Cold_High': 'Y', 'Other_Symptoms': 'Nausia'}, 5: {'Fever_Mild': 'Y', 'Fever_Low': 'N', 'Fever_High': 'N', 'Cough_Mild': 'N', 'Cough_Low': 'Y', 'Cough_High': 'Y', 'Cold_Mild': 'N', 'Cold_Low': 'N', 'Cold_High': 'Y', 'Other_Symptoms': 'Sickness'}}\n"
     ]
    }
   ],
   "source": [
    "# Step 8: Print the enhanced dictionary for the first 5 patients\n",
    "enhanced_symptom_dict_sample = {key: enhanced_symptom_dict[key] for key in list(enhanced_symptom_dict)[:5]}\n",
    "print(\"Enhanced Dictionary (Sample):\", enhanced_symptom_dict_sample)"
   ]
  },
  {
   "cell_type": "code",
   "execution_count": 11,
   "metadata": {},
   "outputs": [],
   "source": [
    "# Step 9: Attach attributes to the dictionary elements \n",
    "for patient_id in enhanced_symptom_dict:\n",
    "    enhanced_symptom_dict[patient_id]['Patient_DOB'] = data.loc[data['Patient_Id'] == patient_id, 'DOB'].values[0]\n",
    "    # Example of attaching a calculated attribute such as 'Patient_Age'\n",
    "    # In real use, you'd convert DOB to a date and compute age; for simplicity here, we'll just attach DOB\n",
    "    enhanced_symptom_dict[patient_id]['Patient_Age'] = \"Unknown\"  # Placeholder for age calculation logic"
   ]
  },
  {
   "cell_type": "code",
   "execution_count": 12,
   "metadata": {},
   "outputs": [
    {
     "name": "stdout",
     "output_type": "stream",
     "text": [
      "Enhanced Dictionary with Attributes (Sample): {1: {'Fever_Mild': 'Y', 'Fever_Low': 'N', 'Fever_High': 'N', 'Cough_Mild': 'N', 'Cough_Low': 'Y', 'Cough_High': 'Y', 'Cold_Mild': 'N', 'Cold_Low': 'N', 'Cold_High': 'Y', 'Other_Symptoms': 'Body Ache', 'Patient_DOB': '02-06-1997', 'Patient_Age': 'Unknown'}, 2: {'Fever_Mild': 'Y', 'Fever_Low': 'N', 'Fever_High': 'N', 'Cough_Mild': 'N', 'Cough_Low': 'Y', 'Cough_High': 'Y', 'Cold_Mild': 'N', 'Cold_Low': 'N', 'Cold_High': 'Y', 'Other_Symptoms': 'Shivering', 'Patient_DOB': '28-06-2017', 'Patient_Age': 'Unknown'}, 3: {'Fever_Mild': 'Y', 'Fever_Low': 'N', 'Fever_High': 'N', 'Cough_Mild': 'N', 'Cough_Low': 'Y', 'Cough_High': 'Y', 'Cold_Mild': 'N', 'Cold_Low': 'N', 'Cold_High': 'Y', 'Other_Symptoms': 'Head Ache', 'Patient_DOB': '24-04-1999', 'Patient_Age': 'Unknown'}, 4: {'Fever_Mild': 'Y', 'Fever_Low': 'N', 'Fever_High': 'N', 'Cough_Mild': 'N', 'Cough_Low': 'Y', 'Cough_High': 'Y', 'Cold_Mild': 'N', 'Cold_Low': 'N', 'Cold_High': 'Y', 'Other_Symptoms': 'Nausia', 'Patient_DOB': '15-11-2016', 'Patient_Age': 'Unknown'}, 5: {'Fever_Mild': 'Y', 'Fever_Low': 'N', 'Fever_High': 'N', 'Cough_Mild': 'N', 'Cough_Low': 'Y', 'Cough_High': 'Y', 'Cold_Mild': 'N', 'Cold_Low': 'N', 'Cold_High': 'Y', 'Other_Symptoms': 'Sickness', 'Patient_DOB': '13-11-1985', 'Patient_Age': 'Unknown'}}\n"
     ]
    }
   ],
   "source": [
    "#Step 10: Print the enhanced dictionary with attached attributes\n",
    "print(\"Enhanced Dictionary with Attributes (Sample):\", {key: enhanced_symptom_dict[key] for key in list(enhanced_symptom_dict)[:5]})\n"
   ]
  },
  {
   "cell_type": "code",
   "execution_count": 13,
   "metadata": {},
   "outputs": [],
   "source": [
    "# Step 11: Verify that the loss of attributes is 0\n",
    "# This means ensuring all dictionary elements now have the required attributes\n",
    "attribute_loss = 0\n",
    "for patient_id in enhanced_symptom_dict:\n",
    "    if 'Patient_DOB' not in enhanced_symptom_dict[patient_id] or 'Patient_Age' not in enhanced_symptom_dict[patient_id]:\n",
    "        attribute_loss += 1"
   ]
  },
  {
   "cell_type": "code",
   "execution_count": 14,
   "metadata": {},
   "outputs": [
    {
     "name": "stdout",
     "output_type": "stream",
     "text": [
      "Loss of attributes: 0\n"
     ]
    }
   ],
   "source": [
    "\n",
    "# Step 12: Print the attribute loss (should be 0)\n",
    "print(\"Loss of attributes:\", attribute_loss)"
   ]
  },
  {
   "cell_type": "code",
   "execution_count": null,
   "metadata": {},
   "outputs": [],
   "source": []
  }
 ],
 "metadata": {
  "kernelspec": {
   "display_name": "Python 3",
   "language": "python",
   "name": "python3"
  },
  "language_info": {
   "codemirror_mode": {
    "name": "ipython",
    "version": 3
   },
   "file_extension": ".py",
   "mimetype": "text/x-python",
   "name": "python",
   "nbconvert_exporter": "python",
   "pygments_lexer": "ipython3",
   "version": "3.10.4"
  }
 },
 "nbformat": 4,
 "nbformat_minor": 2
}
