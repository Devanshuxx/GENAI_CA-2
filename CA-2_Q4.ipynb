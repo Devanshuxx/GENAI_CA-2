{
 "cells": [
  {
   "cell_type": "code",
   "execution_count": 1,
   "metadata": {},
   "outputs": [],
   "source": [
    "import random"
   ]
  },
  {
   "cell_type": "code",
   "execution_count": 2,
   "metadata": {},
   "outputs": [],
   "source": [
    "# Transaction class to store details of a transaction\n",
    "class Transaction:\n",
    "    def __init__(self, amount, description):\n",
    "        self.amount = amount\n",
    "        self.description = description"
   ]
  },
  {
   "cell_type": "code",
   "execution_count": 3,
   "metadata": {},
   "outputs": [],
   "source": [
    "# BankAccount class to manage account operations\n",
    "class BankAccount:\n",
    "    def __init__(self, initial_balance, annual_interest_rate):\n",
    "        self.balance = initial_balance\n",
    "        self.annual_interest_rate = annual_interest_rate\n",
    "        self.transactions = []  # Stores a list of transactions\n",
    "        self.monthly_min_balances = []  # Stores the minimum balance for each month\n",
    "\n",
    "    # Method to deposit money\n",
    "    def deposit(self, amount, description=\"Deposit\"):\n",
    "        self.balance += amount\n",
    "        self.transactions.append(Transaction(amount, description))\n",
    "\n",
    "    # Method to withdraw money\n",
    "    def withdraw(self, amount, description=\"Withdrawal\"):\n",
    "        if self.balance >= amount:\n",
    "            self.balance -= amount\n",
    "            self.transactions.append(Transaction(-amount, description))\n",
    "        else:\n",
    "            print(\"Insufficient funds for withdrawal\")\n",
    "\n",
    "    # Method to calculate interest based on average minimum balance over a number of months\n",
    "    def calculate_interest(self, months=6):\n",
    "        if len(self.monthly_min_balances) < months:\n",
    "            print(f\"Need at least {months} months of data\")\n",
    "            return 0\n",
    "\n",
    "        # Calculate the average minimum balance for the given months\n",
    "        total_min_balance = sum(self.monthly_min_balances[-months:])\n",
    "        average_min_balance = total_min_balance / months\n",
    "\n",
    "        # Calculate interest based on average minimum balance and annual interest rate\n",
    "        interest = (average_min_balance * self.annual_interest_rate * months) / (12 * 100)\n",
    "        return interest\n",
    "\n",
    "    # Simulate one month's transactions\n",
    "    def simulate_month(self):\n",
    "        min_balance = self.balance\n",
    "        num_transactions = random.randint(5, 15)  # Random number of transactions\n",
    "\n",
    "        # Simulate deposits and withdrawals\n",
    "        for i in range(num_transactions):\n",
    "            if random.random() < 0.6:  # 60% chance of withdrawal\n",
    "                amount = random.uniform(10, 500)\n",
    "                self.withdraw(amount)\n",
    "            else:\n",
    "                amount = random.uniform(50, 1000)\n",
    "                self.deposit(amount)\n",
    "\n",
    "            # Keep track of the minimum balance during the month\n",
    "            min_balance = min(min_balance, self.balance)\n",
    "\n",
    "        # Store the minimum balance for the month\n",
    "        self.monthly_min_balances.append(min_balance)\n",
    "\n",
    "    # Simulate transactions for multiple months\n",
    "    def simulate_months(self, num_months):\n",
    "        for i in range(num_months):\n",
    "            self.simulate_month()"
   ]
  },
  {
   "cell_type": "code",
   "execution_count": 4,
   "metadata": {},
   "outputs": [],
   "source": [
    "# Example usage\n",
    "account = BankAccount(initial_balance=5000, annual_interest_rate=4.5)\n",
    "account.simulate_months(6)"
   ]
  },
  {
   "cell_type": "code",
   "execution_count": 5,
   "metadata": {},
   "outputs": [
    {
     "name": "stdout",
     "output_type": "stream",
     "text": [
      "Monthly Minimum Balances:\n",
      "Month 1: $2435.60\n",
      "Month 2: $1770.17\n",
      "Month 3: $1437.89\n",
      "Month 4: $3186.85\n",
      "Month 5: $2931.84\n",
      "Month 6: $4001.14\n"
     ]
    }
   ],
   "source": [
    "# Print monthly minimum balances\n",
    "print(\"Monthly Minimum Balances:\")\n",
    "for i, balance in enumerate(account.monthly_min_balances, 1):\n",
    "    print(f\"Month {i}: ${balance:.2f}\")"
   ]
  },
  {
   "cell_type": "code",
   "execution_count": 6,
   "metadata": {},
   "outputs": [
    {
     "name": "stdout",
     "output_type": "stream",
     "text": [
      "\n",
      "Interest earned over 6 months: $59.11\n",
      "Final balance: $4262.55\n"
     ]
    }
   ],
   "source": [
    "# Calculate and print interest earned\n",
    "interest = account.calculate_interest()\n",
    "print(f\"\\nInterest earned over 6 months: ${interest:.2f}\")\n",
    "print(f\"Final balance: ${account.balance:.2f}\")"
   ]
  }
 ],
 "metadata": {
  "kernelspec": {
   "display_name": "Python 3",
   "language": "python",
   "name": "python3"
  },
  "language_info": {
   "codemirror_mode": {
    "name": "ipython",
    "version": 3
   },
   "file_extension": ".py",
   "mimetype": "text/x-python",
   "name": "python",
   "nbconvert_exporter": "python",
   "pygments_lexer": "ipython3",
   "version": "3.10.11"
  }
 },
 "nbformat": 4,
 "nbformat_minor": 2
}
